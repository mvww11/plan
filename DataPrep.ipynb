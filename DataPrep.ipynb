{
 "cells": [
  {
   "cell_type": "markdown",
   "metadata": {},
   "source": [
    "# Preparação dos dados\n",
    "Antes de começar a modelagem, vamos preparar os dados. Primeiramente, verificaremos se há dados nulos ou data types inconsistentes."
   ]
  },
  {
   "cell_type": "code",
   "execution_count": 1,
   "metadata": {},
   "outputs": [
    {
     "data": {
      "text/html": [
       "<div>\n",
       "<style scoped>\n",
       "    .dataframe tbody tr th:only-of-type {\n",
       "        vertical-align: middle;\n",
       "    }\n",
       "\n",
       "    .dataframe tbody tr th {\n",
       "        vertical-align: top;\n",
       "    }\n",
       "\n",
       "    .dataframe thead th {\n",
       "        text-align: right;\n",
       "    }\n",
       "</style>\n",
       "<table border=\"1\" class=\"dataframe\">\n",
       "  <thead>\n",
       "    <tr style=\"text-align: right;\">\n",
       "      <th></th>\n",
       "      <th>Cluster</th>\n",
       "      <th>Volume</th>\n",
       "      <th>Remessas</th>\n",
       "    </tr>\n",
       "    <tr>\n",
       "      <th>DataEntrega</th>\n",
       "      <th></th>\n",
       "      <th></th>\n",
       "      <th></th>\n",
       "    </tr>\n",
       "  </thead>\n",
       "  <tbody>\n",
       "    <tr>\n",
       "      <th>2019-10-01</th>\n",
       "      <td>A</td>\n",
       "      <td>3112.34</td>\n",
       "      <td>466.0</td>\n",
       "    </tr>\n",
       "    <tr>\n",
       "      <th>2019-10-01</th>\n",
       "      <td>B</td>\n",
       "      <td>28.60</td>\n",
       "      <td>5.0</td>\n",
       "    </tr>\n",
       "    <tr>\n",
       "      <th>2019-10-01</th>\n",
       "      <td>C</td>\n",
       "      <td>7613.48</td>\n",
       "      <td>898.0</td>\n",
       "    </tr>\n",
       "    <tr>\n",
       "      <th>2019-10-01</th>\n",
       "      <td>D</td>\n",
       "      <td>741.40</td>\n",
       "      <td>159.0</td>\n",
       "    </tr>\n",
       "    <tr>\n",
       "      <th>2019-10-01</th>\n",
       "      <td>E</td>\n",
       "      <td>2127.68</td>\n",
       "      <td>441.0</td>\n",
       "    </tr>\n",
       "  </tbody>\n",
       "</table>\n",
       "</div>"
      ],
      "text/plain": [
       "            Cluster   Volume  Remessas\n",
       "DataEntrega                           \n",
       "2019-10-01        A  3112.34     466.0\n",
       "2019-10-01        B    28.60       5.0\n",
       "2019-10-01        C  7613.48     898.0\n",
       "2019-10-01        D   741.40     159.0\n",
       "2019-10-01        E  2127.68     441.0"
      ]
     },
     "execution_count": 1,
     "metadata": {},
     "output_type": "execute_result"
    }
   ],
   "source": [
    "# Importando as bibliotecas\n",
    "import numpy as np\n",
    "import pandas as pd\n",
    "import matplotlib.pyplot as plt\n",
    "%matplotlib inline\n",
    "\n",
    "#Importando os dados\n",
    "df = pd.read_csv(\"Plannera - Case de Data Science.csv\", sep=';')\n",
    "df = df.drop('Dropsize', axis=1)\n",
    "\n",
    "df['DataEntrega'] = pd.to_datetime(df['DataEntrega'], dayfirst=True)\n",
    "df = df.set_index('DataEntrega')\n",
    "\n",
    "#Imprime o dataframe\n",
    "df.head()"
   ]
  },
  {
   "cell_type": "markdown",
   "metadata": {},
   "source": [
    "Vemos abaixo que os data types das colunas de Volume e Remessas são numéricos, conforme esperado."
   ]
  },
  {
   "cell_type": "code",
   "execution_count": 2,
   "metadata": {},
   "outputs": [
    {
     "name": "stdout",
     "output_type": "stream",
     "text": [
      "<class 'pandas.core.frame.DataFrame'>\n",
      "DatetimeIndex: 3360 entries, 2019-10-01 to 2020-08-31\n",
      "Data columns (total 3 columns):\n",
      " #   Column    Non-Null Count  Dtype  \n",
      "---  ------    --------------  -----  \n",
      " 0   Cluster   3360 non-null   object \n",
      " 1   Volume    3360 non-null   float64\n",
      " 2   Remessas  3360 non-null   float64\n",
      "dtypes: float64(2), object(1)\n",
      "memory usage: 91.9+ KB\n"
     ]
    }
   ],
   "source": [
    "# Verificando os data types\n",
    "df.info()"
   ]
  },
  {
   "cell_type": "markdown",
   "metadata": {},
   "source": [
    "Não existem dados nulos em nossa série temporal:"
   ]
  },
  {
   "cell_type": "code",
   "execution_count": 3,
   "metadata": {},
   "outputs": [
    {
     "data": {
      "text/plain": [
       "Cluster     0\n",
       "Volume      0\n",
       "Remessas    0\n",
       "dtype: int64"
      ]
     },
     "execution_count": 3,
     "metadata": {},
     "output_type": "execute_result"
    }
   ],
   "source": [
    "# Contando os dados nulos\n",
    "df.isnull().sum()"
   ]
  },
  {
   "cell_type": "markdown",
   "metadata": {},
   "source": [
    "Para formatar nosso dataframe de forma apropriada, vamos criar uma coluna de Volume e uma coluna de Remessas para cada um dos clusters."
   ]
  },
  {
   "cell_type": "code",
   "execution_count": 4,
   "metadata": {},
   "outputs": [
    {
     "data": {
      "text/html": [
       "<div>\n",
       "<style scoped>\n",
       "    .dataframe tbody tr th:only-of-type {\n",
       "        vertical-align: middle;\n",
       "    }\n",
       "\n",
       "    .dataframe tbody tr th {\n",
       "        vertical-align: top;\n",
       "    }\n",
       "\n",
       "    .dataframe thead th {\n",
       "        text-align: right;\n",
       "    }\n",
       "</style>\n",
       "<table border=\"1\" class=\"dataframe\">\n",
       "  <thead>\n",
       "    <tr style=\"text-align: right;\">\n",
       "      <th></th>\n",
       "      <th>Volume_A</th>\n",
       "      <th>Remessas_A</th>\n",
       "      <th>Volume_B</th>\n",
       "      <th>Remessas_B</th>\n",
       "      <th>Volume_C</th>\n",
       "      <th>Remessas_C</th>\n",
       "      <th>Volume_D</th>\n",
       "      <th>Remessas_D</th>\n",
       "      <th>Volume_E</th>\n",
       "      <th>Remessas_E</th>\n",
       "      <th>Volume_F</th>\n",
       "      <th>Remessas_F</th>\n",
       "      <th>Volume_J</th>\n",
       "      <th>Remessas_J</th>\n",
       "      <th>Volume_K</th>\n",
       "      <th>Remessas_K</th>\n",
       "      <th>Volume_L</th>\n",
       "      <th>Remessas_L</th>\n",
       "      <th>Volume_M</th>\n",
       "      <th>Remessas_M</th>\n",
       "    </tr>\n",
       "    <tr>\n",
       "      <th>DataEntrega</th>\n",
       "      <th></th>\n",
       "      <th></th>\n",
       "      <th></th>\n",
       "      <th></th>\n",
       "      <th></th>\n",
       "      <th></th>\n",
       "      <th></th>\n",
       "      <th></th>\n",
       "      <th></th>\n",
       "      <th></th>\n",
       "      <th></th>\n",
       "      <th></th>\n",
       "      <th></th>\n",
       "      <th></th>\n",
       "      <th></th>\n",
       "      <th></th>\n",
       "      <th></th>\n",
       "      <th></th>\n",
       "      <th></th>\n",
       "      <th></th>\n",
       "    </tr>\n",
       "  </thead>\n",
       "  <tbody>\n",
       "    <tr>\n",
       "      <th>2019-10-01</th>\n",
       "      <td>3112.34</td>\n",
       "      <td>466.0</td>\n",
       "      <td>28.60</td>\n",
       "      <td>5.0</td>\n",
       "      <td>7613.48</td>\n",
       "      <td>898.0</td>\n",
       "      <td>741.40</td>\n",
       "      <td>159.0</td>\n",
       "      <td>2127.68</td>\n",
       "      <td>441.0</td>\n",
       "      <td>492.70</td>\n",
       "      <td>116.0</td>\n",
       "      <td>3863.72</td>\n",
       "      <td>529.0</td>\n",
       "      <td>0.00</td>\n",
       "      <td>0.0</td>\n",
       "      <td>0.00</td>\n",
       "      <td>0.0</td>\n",
       "      <td>0.00</td>\n",
       "      <td>0.0</td>\n",
       "    </tr>\n",
       "    <tr>\n",
       "      <th>2019-10-02</th>\n",
       "      <td>3397.08</td>\n",
       "      <td>496.0</td>\n",
       "      <td>9966.92</td>\n",
       "      <td>847.0</td>\n",
       "      <td>869.70</td>\n",
       "      <td>103.0</td>\n",
       "      <td>866.82</td>\n",
       "      <td>196.0</td>\n",
       "      <td>1523.66</td>\n",
       "      <td>391.0</td>\n",
       "      <td>466.02</td>\n",
       "      <td>119.0</td>\n",
       "      <td>2122.22</td>\n",
       "      <td>494.0</td>\n",
       "      <td>0.00</td>\n",
       "      <td>0.0</td>\n",
       "      <td>0.00</td>\n",
       "      <td>0.0</td>\n",
       "      <td>0.00</td>\n",
       "      <td>0.0</td>\n",
       "    </tr>\n",
       "    <tr>\n",
       "      <th>2019-10-03</th>\n",
       "      <td>3420.58</td>\n",
       "      <td>574.0</td>\n",
       "      <td>2336.12</td>\n",
       "      <td>571.0</td>\n",
       "      <td>411.52</td>\n",
       "      <td>192.0</td>\n",
       "      <td>948.04</td>\n",
       "      <td>219.0</td>\n",
       "      <td>8327.02</td>\n",
       "      <td>1059.0</td>\n",
       "      <td>17149.62</td>\n",
       "      <td>2380.0</td>\n",
       "      <td>1414.80</td>\n",
       "      <td>218.0</td>\n",
       "      <td>1989.22</td>\n",
       "      <td>386.0</td>\n",
       "      <td>573.22</td>\n",
       "      <td>122.0</td>\n",
       "      <td>3164.32</td>\n",
       "      <td>493.0</td>\n",
       "    </tr>\n",
       "    <tr>\n",
       "      <th>2019-10-04</th>\n",
       "      <td>2443.64</td>\n",
       "      <td>476.0</td>\n",
       "      <td>2253.90</td>\n",
       "      <td>641.0</td>\n",
       "      <td>477.16</td>\n",
       "      <td>211.0</td>\n",
       "      <td>976.52</td>\n",
       "      <td>303.0</td>\n",
       "      <td>13219.70</td>\n",
       "      <td>1174.0</td>\n",
       "      <td>34265.04</td>\n",
       "      <td>3977.0</td>\n",
       "      <td>805.66</td>\n",
       "      <td>186.0</td>\n",
       "      <td>2300.84</td>\n",
       "      <td>386.0</td>\n",
       "      <td>551.50</td>\n",
       "      <td>131.0</td>\n",
       "      <td>3373.32</td>\n",
       "      <td>503.0</td>\n",
       "    </tr>\n",
       "    <tr>\n",
       "      <th>2019-10-05</th>\n",
       "      <td>97.92</td>\n",
       "      <td>11.0</td>\n",
       "      <td>381.02</td>\n",
       "      <td>51.0</td>\n",
       "      <td>896.78</td>\n",
       "      <td>102.0</td>\n",
       "      <td>0.00</td>\n",
       "      <td>0.0</td>\n",
       "      <td>0.00</td>\n",
       "      <td>0.0</td>\n",
       "      <td>0.00</td>\n",
       "      <td>0.0</td>\n",
       "      <td>0.00</td>\n",
       "      <td>0.0</td>\n",
       "      <td>0.00</td>\n",
       "      <td>0.0</td>\n",
       "      <td>0.00</td>\n",
       "      <td>0.0</td>\n",
       "      <td>0.00</td>\n",
       "      <td>0.0</td>\n",
       "    </tr>\n",
       "  </tbody>\n",
       "</table>\n",
       "</div>"
      ],
      "text/plain": [
       "             Volume_A  Remessas_A  Volume_B  Remessas_B  Volume_C  Remessas_C  \\\n",
       "DataEntrega                                                                     \n",
       "2019-10-01    3112.34       466.0     28.60         5.0   7613.48       898.0   \n",
       "2019-10-02    3397.08       496.0   9966.92       847.0    869.70       103.0   \n",
       "2019-10-03    3420.58       574.0   2336.12       571.0    411.52       192.0   \n",
       "2019-10-04    2443.64       476.0   2253.90       641.0    477.16       211.0   \n",
       "2019-10-05      97.92        11.0    381.02        51.0    896.78       102.0   \n",
       "\n",
       "             Volume_D  Remessas_D  Volume_E  Remessas_E  Volume_F  Remessas_F  \\\n",
       "DataEntrega                                                                     \n",
       "2019-10-01     741.40       159.0   2127.68       441.0    492.70       116.0   \n",
       "2019-10-02     866.82       196.0   1523.66       391.0    466.02       119.0   \n",
       "2019-10-03     948.04       219.0   8327.02      1059.0  17149.62      2380.0   \n",
       "2019-10-04     976.52       303.0  13219.70      1174.0  34265.04      3977.0   \n",
       "2019-10-05       0.00         0.0      0.00         0.0      0.00         0.0   \n",
       "\n",
       "             Volume_J  Remessas_J  Volume_K  Remessas_K  Volume_L  Remessas_L  \\\n",
       "DataEntrega                                                                     \n",
       "2019-10-01    3863.72       529.0      0.00         0.0      0.00         0.0   \n",
       "2019-10-02    2122.22       494.0      0.00         0.0      0.00         0.0   \n",
       "2019-10-03    1414.80       218.0   1989.22       386.0    573.22       122.0   \n",
       "2019-10-04     805.66       186.0   2300.84       386.0    551.50       131.0   \n",
       "2019-10-05       0.00         0.0      0.00         0.0      0.00         0.0   \n",
       "\n",
       "             Volume_M  Remessas_M  \n",
       "DataEntrega                        \n",
       "2019-10-01       0.00         0.0  \n",
       "2019-10-02       0.00         0.0  \n",
       "2019-10-03    3164.32       493.0  \n",
       "2019-10-04    3373.32       503.0  \n",
       "2019-10-05       0.00         0.0  "
      ]
     },
     "execution_count": 4,
     "metadata": {},
     "output_type": "execute_result"
    }
   ],
   "source": [
    "# Criar uma lista de dfs. Cada df carrega as informações de um único cluster\n",
    "dfs = []\n",
    "for cluster in df.Cluster.unique():\n",
    "    dfs.append(df[df.Cluster == cluster].rename(columns={'Volume': f'Volume_{cluster}', 'Remessas': f'Remessas_{cluster}'}).drop('Cluster', axis=1))\n",
    "    \n",
    "# concatenar os dataframes individuais de cada cluster num único dataframe\n",
    "df2 = pd.concat(dfs, axis=1)\n",
    "df2.head()"
   ]
  },
  {
   "cell_type": "markdown",
   "metadata": {},
   "source": [
    "Assim, temos uma coluna de Volume e uma coluna de Remessa para cada cluster. Ao todo, são 336 linhas, uma para cada dia. Os data types estão todos numéricos, conforme esperado:"
   ]
  },
  {
   "cell_type": "code",
   "execution_count": 5,
   "metadata": {
    "scrolled": false
   },
   "outputs": [
    {
     "name": "stdout",
     "output_type": "stream",
     "text": [
      "<class 'pandas.core.frame.DataFrame'>\n",
      "DatetimeIndex: 336 entries, 2019-10-01 to 2020-08-31\n",
      "Data columns (total 20 columns):\n",
      " #   Column      Non-Null Count  Dtype  \n",
      "---  ------      --------------  -----  \n",
      " 0   Volume_A    336 non-null    float64\n",
      " 1   Remessas_A  336 non-null    float64\n",
      " 2   Volume_B    336 non-null    float64\n",
      " 3   Remessas_B  336 non-null    float64\n",
      " 4   Volume_C    336 non-null    float64\n",
      " 5   Remessas_C  336 non-null    float64\n",
      " 6   Volume_D    336 non-null    float64\n",
      " 7   Remessas_D  336 non-null    float64\n",
      " 8   Volume_E    336 non-null    float64\n",
      " 9   Remessas_E  336 non-null    float64\n",
      " 10  Volume_F    336 non-null    float64\n",
      " 11  Remessas_F  336 non-null    float64\n",
      " 12  Volume_J    336 non-null    float64\n",
      " 13  Remessas_J  336 non-null    float64\n",
      " 14  Volume_K    336 non-null    float64\n",
      " 15  Remessas_K  336 non-null    float64\n",
      " 16  Volume_L    336 non-null    float64\n",
      " 17  Remessas_L  336 non-null    float64\n",
      " 18  Volume_M    336 non-null    float64\n",
      " 19  Remessas_M  336 non-null    float64\n",
      "dtypes: float64(20)\n",
      "memory usage: 55.1 KB\n"
     ]
    }
   ],
   "source": [
    "# Verificando as colunas e data types\n",
    "df2.info()"
   ]
  },
  {
   "cell_type": "markdown",
   "metadata": {},
   "source": [
    "Por fim, exportamos nossos dados para seguir com a análise:"
   ]
  },
  {
   "cell_type": "code",
   "execution_count": 6,
   "metadata": {},
   "outputs": [],
   "source": [
    "#exportar o dataframe\n",
    "df2.to_csv('dados.csv')"
   ]
  },
  {
   "cell_type": "code",
   "execution_count": 7,
   "metadata": {},
   "outputs": [
    {
     "data": {
      "text/plain": [
       "<matplotlib.axes._subplots.AxesSubplot at 0x14ded2c8>"
      ]
     },
     "execution_count": 7,
     "metadata": {},
     "output_type": "execute_result"
    },
    {
     "data": {
      "image/png": "[encoded data removed]",
      "text/plain": [
       "<Figure size 432x288 with 1 Axes>"
      ]
     },
     "metadata": {
      "needs_background": "light"
     },
     "output_type": "display_data"
    }
   ],
   "source": [
    "df2.Remessas_A.plot()"
   ]
  },
  {
   "cell_type": "code",
   "execution_count": 8,
   "metadata": {},
   "outputs": [
    {
     "data": {
      "text/plain": [
       "Volume_A      2.6\n",
       "Remessas_A    2.0\n",
       "Volume_B      0.0\n",
       "Remessas_B    0.0\n",
       "Volume_C      0.0\n",
       "Remessas_C    0.0\n",
       "Volume_D      0.0\n",
       "Remessas_D    0.0\n",
       "Volume_E      0.0\n",
       "Remessas_E    0.0\n",
       "Volume_F      0.0\n",
       "Remessas_F    0.0\n",
       "Volume_J      0.0\n",
       "Remessas_J    0.0\n",
       "Volume_K      0.0\n",
       "Remessas_K    0.0\n",
       "Volume_L      0.0\n",
       "Remessas_L    0.0\n",
       "Volume_M      0.0\n",
       "Remessas_M    0.0\n",
       "Name: 2020-08-23 00:00:00, dtype: float64"
      ]
     },
     "execution_count": 8,
     "metadata": {},
     "output_type": "execute_result"
    }
   ],
   "source": [
    "df2.loc['2020-08-23']"
   ]
  }
 ],
 "metadata": {
  "kernelspec": {
   "display_name": "Python 3",
   "language": "python",
   "name": "python3"
  },
  "language_info": {
   "codemirror_mode": {
    "name": "ipython",
    "version": 3
   },
   "file_extension": ".py",
   "mimetype": "text/x-python",
   "name": "python",
   "nbconvert_exporter": "python",
   "pygments_lexer": "ipython3",
   "version": "3.8.2"
  }
 },
 "nbformat": 4,
 "nbformat_minor": 4
}
